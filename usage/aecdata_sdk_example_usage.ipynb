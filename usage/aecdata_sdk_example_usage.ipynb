{
 "cells": [
  {
   "cell_type": "code",
   "execution_count": null,
   "id": "8c0b8cb1-3109-4e9a-85f3-6118c965319c",
   "metadata": {},
   "outputs": [],
   "source": [
    "!pip install --extra-index-url https://test.pypi.org/simple/ aecdata"
   ]
  },
  {
   "cell_type": "code",
   "execution_count": null,
   "id": "edda0ac7",
   "metadata": {},
   "outputs": [],
   "source": [
    "import os\n",
    "import pandas as pd \n",
    "import numpy as np\n",
    "from itertools import product\n",
    "from aecdata import *"
   ]
  },
  {
   "cell_type": "markdown",
   "id": "df9fab3c",
   "metadata": {},
   "source": [
    "### Setup developer token"
   ]
  },
  {
   "cell_type": "code",
   "execution_count": null,
   "id": "1e20236c",
   "metadata": {},
   "outputs": [],
   "source": [
    "# Set the environment variable\n",
    "os.environ['DEVELOPER_TOKEN']= ''\n",
    "\n",
    "# Now you can access it using getenv\n",
    "developer_token = os.getenv('DEVELOPER_TOKEN')"
   ]
  },
  {
   "cell_type": "markdown",
   "id": "b0d9f7fe",
   "metadata": {},
   "source": [
    "### Create user"
   ]
  },
  {
   "cell_type": "code",
   "execution_count": null,
   "id": "652962b3",
   "metadata": {},
   "outputs": [],
   "source": [
    "user = User(developer_token = developer_token)"
   ]
  },
  {
   "cell_type": "markdown",
   "id": "a76da41c",
   "metadata": {},
   "source": [
    "### user attributes"
   ]
  },
  {
   "cell_type": "code",
   "execution_count": null,
   "id": "9f9105c7",
   "metadata": {},
   "outputs": [],
   "source": [
    "# user.base_api_url # default = \"https://app.2050-materials.com/\"\n",
    "# user.authenticator\n",
    "# user.api_token\n",
    "# user.refresh_token\n",
    "\n",
    "# Lazy calculation of filters and field_description\n",
    "# user.filters # first time the get_filters method is called and cached as user property\n",
    "# user.field_description # first time the get_filters method is called and cached as user property"
   ]
  },
  {
   "cell_type": "markdown",
   "id": "60ee04c0",
   "metadata": {},
   "source": [
    "### Refresh token "
   ]
  },
  {
   "cell_type": "code",
   "execution_count": null,
   "id": "91cdf735",
   "metadata": {},
   "outputs": [],
   "source": [
    "user.refresh_api_token()"
   ]
  },
  {
   "cell_type": "markdown",
   "id": "6d2ab1bc",
   "metadata": {},
   "source": [
    "### user class has various methods to retrieve utility data"
   ]
  },
  {
   "cell_type": "code",
   "execution_count": null,
   "id": "6d982360",
   "metadata": {},
   "outputs": [],
   "source": [
    "# user.get_filters_template() \n",
    "# field_description = user.get_field_description()\n",
    "# user.get_input_lca_fields_description()\n",
    "# user.get_output_lca_fields_description()\n",
    "# user.get_impact_lca_fields_description()\n",
    "# user.get_material_facts_fields_description()\n",
    "# user.get_physical_properties_fields_description()\n",
    "# user.get_technical_parameters_fields_description()\n",
    "# user.get_product_fields_description()\n",
    "# user.get_unit_categories() \n",
    "# user.get_primary_units()\n",
    "# user.get_mf_num_fields()\n",
    "# user.get_mf_perc_fields()\n",
    "# user.get_physical_properties_fields()"
   ]
  },
  {
   "cell_type": "markdown",
   "id": "23212e9f",
   "metadata": {},
   "source": [
    "### Get products"
   ]
  },
  {
   "cell_type": "code",
   "execution_count": null,
   "id": "2e1403ee",
   "metadata": {},
   "outputs": [],
   "source": [
    "# products = user.get_products_page(page=2)\n",
    "# products"
   ]
  },
  {
   "cell_type": "markdown",
   "id": "dfd28a81",
   "metadata": {},
   "source": [
    "### Filters"
   ]
  },
  {
   "cell_type": "code",
   "execution_count": null,
   "id": "87fc6fba",
   "metadata": {
    "scrolled": true
   },
   "outputs": [],
   "source": [
    "# Fetch all filters\n",
    "all_filters = user.filters\n",
    "\n",
    "# # Fetch all filter mappings\n",
    "all_mappings = user.get_filters_mapping()\n",
    "# all_mappings['material_types_family']\n",
    "\n",
    "# # Fetch filter template\n",
    "# filter_template = user.get_filters_template()\n",
    "# filter_template\n",
    "\n",
    "# # Fetch filters for open API\n",
    "# open_filters = user.get_open_filters()\n"
   ]
  },
  {
   "cell_type": "markdown",
   "id": "8f81cb76",
   "metadata": {},
   "source": [
    "### Apply Filters"
   ]
  },
  {
   "cell_type": "code",
   "execution_count": null,
   "id": "700afa0b",
   "metadata": {},
   "outputs": [],
   "source": [
    "filters = {\n",
    "#     'name': '12.5 mm Gyproc Fireline',\n",
    "#     'product_type': [7,8,9,10],\n",
    "#    'material_types': [all_mappings['material_types']['Ceramic']],\n",
    "    'material_type_family': all_mappings['material_types_family']['Ceramic'],\n",
    "#     'country': 'United Kingdom',\n",
    "#     'manufacturing_continent': 'Europe',\n",
    "#     'fire_performance': ['  B-s1,d0','M3 (NF P92-501 : 1995)'],\n",
    "#     'norm_price': 4,\n",
    "#     'mf_unit': 'kg'\n",
    "}\n",
    "filtered_products = user.get_products(**filters) # Add openapi=True for the free version\n",
    "# filtered_products = user.get_products(page=1, **filters)"
   ]
  },
  {
   "cell_type": "markdown",
   "id": "999874ea",
   "metadata": {},
   "source": [
    "## Create ProductData object "
   ]
  },
  {
   "cell_type": "code",
   "execution_count": null,
   "id": "01a8f1ed",
   "metadata": {
    "scrolled": true
   },
   "outputs": [],
   "source": [
    "# Create ProductData object from API data\n",
    "product_data = ProductData(filtered_products)\n",
    "df = product_data.dataframe\n",
    "\n",
    "# Save as csv\n",
    "# product_data.to_csv('example.csv')\n",
    "\n",
    "# from Dataframe\n",
    "product_data_head = ProductData(df.head())\n",
    "product_data_head.data"
   ]
  },
  {
   "cell_type": "markdown",
   "id": "10df30fc",
   "metadata": {},
   "source": [
    "### A change in the .data attribute is automatically reflected in the .dataframe attribute (and vice versa)"
   ]
  },
  {
   "cell_type": "code",
   "execution_count": null,
   "id": "2b1abc68",
   "metadata": {},
   "outputs": [],
   "source": [
    "# Construct ProductData obj\n",
    "product_data_head = ProductData(df.head())\n",
    "\n",
    "# Assign the data attribute of the obj to new_data variable\n",
    "new_data = product_data_head.data\n",
    "\n",
    "# Print name of the first product\n",
    "print('Old data name:', new_data[0]['name'])\n",
    "\n",
    "# Modify the new_data variable \n",
    "new_data[0]['name'] = 'NEW NAME TEST'\n",
    "\n",
    "# Assign the value to data\n",
    "product_data_head.data = new_data\n",
    "\n",
    "# Print the new value from the dataframe\n",
    "print('New dataframe name:', product_data_head.dataframe.loc[0,'name'])"
   ]
  },
  {
   "cell_type": "markdown",
   "id": "6ab0ab9f-f5e3-421e-aea5-f644855f7378",
   "metadata": {},
   "source": [
    "## Project tool"
   ]
  },
  {
   "cell_type": "markdown",
   "id": "ac60fe99-256d-4667-b37e-fdebc06efb8a",
   "metadata": {},
   "source": [
    "#### Define custom project using UUID, unit and amount of product"
   ]
  },
  {
   "cell_type": "code",
   "execution_count": null,
   "id": "578a53c8",
   "metadata": {},
   "outputs": [],
   "source": [
    "products_info = {\n",
    "    '6aa6d32c-f8cf-11ed-9c01-0242ac120004' : {'amount': 0.2}, #{'unit':'declared_unit', 'amount': 0.2},\n",
    "    'c0800dc0-f8cc-11ed-9c01-0242ac120004' : {'amount': 0.30}, #{'unit':'declared_unit', 'amount': 0.3},\n",
    "    '6ab16fb2-f8cf-11ed-9c01-0242ac120004' : {'unit':'m2'}, #{'unit':'m2', 'amount': 1},\n",
    "    '6aab7152-f8cf-11ed-9c01-0242ac120004' : {'unit':'m2', 'amount': 1},\n",
    "}\n"
   ]
  },
  {
   "cell_type": "markdown",
   "id": "88957b31-2d14-4d70-a2b4-db0e903c455f",
   "metadata": {},
   "source": [
    "#### Create scaled dataframe or plot product contribution to a specified LCA field"
   ]
  },
  {
   "cell_type": "code",
   "execution_count": null,
   "id": "e42675cc-bdf8-45dc-ae05-841ec9c87f5a",
   "metadata": {},
   "outputs": [],
   "source": [
    "scale_df = product_data.scale_products_by_unit_and_amount(products_info)\n",
    "\n",
    "product_data.plot_product_contributions(products_info, 'material_facts.manufacturing')"
   ]
  },
  {
   "cell_type": "markdown",
   "id": "1aa1d54f-412d-41c3-8e30-72f8064044aa",
   "metadata": {},
   "source": [
    "## Convert to EPDx format"
   ]
  },
  {
   "cell_type": "code",
   "execution_count": null,
   "id": "ac179f4f-ece1-4fe8-beee-8e485c0f1fa8",
   "metadata": {},
   "outputs": [],
   "source": [
    "epdx_products = product_data.to_epdx()\n",
    "# epdx_df = pd.json_normalize(epdx_products)\n",
    "# epdx_df"
   ]
  },
  {
   "cell_type": "markdown",
   "id": "b127d54d",
   "metadata": {},
   "source": [
    "## Create ProductStatistics (extension of ProductData)"
   ]
  },
  {
   "cell_type": "code",
   "execution_count": null,
   "id": "8a61ca02",
   "metadata": {},
   "outputs": [],
   "source": [
    "stats_obj = ProductStatistics(product_data.dataframe, unit='m2')"
   ]
  },
  {
   "cell_type": "markdown",
   "id": "d29448c9",
   "metadata": {},
   "source": [
    "#### Calculate statistics"
   ]
  },
  {
   "cell_type": "code",
   "execution_count": null,
   "id": "71728329",
   "metadata": {
    "scrolled": true
   },
   "outputs": [],
   "source": [
    "group_by = [\n",
    "    # 'group_elements_nrm_1',\n",
    "    'country',\n",
    "    'manufacturing_continent',\n",
    "    # 'material_facts.data_source',\n",
    "]\n",
    "all_available_fields  = stats_obj.get_available_fields()\n",
    "stat_df = stats_obj.get_statistics(group_by=group_by, fields=all_available_fields, statistical_metrics=['count', 'mean', 'median'], include_estimated_values=False, remove_outliers=True, method='IQR', sqrt_tranf=True, min_count=3)\n",
    "stat_df"
   ]
  },
  {
   "cell_type": "markdown",
   "id": "a424cc62",
   "metadata": {},
   "source": [
    "#### Another example"
   ]
  },
  {
   "cell_type": "code",
   "execution_count": null,
   "id": "f638dac2",
   "metadata": {
    "scrolled": true
   },
   "outputs": [],
   "source": [
    "group_by = [\n",
    "    # 'company',\n",
    "    # 'product_type',\n",
    "    'material_type', \n",
    "    # 'material_type_family',\n",
    "    # 'elements_nrm_1',\n",
    "    # 'country',\n",
    "    # 'manufacturing_continent',\n",
    "    # 'material_facts.data_source',\n",
    "]\n",
    "all_available_fields  = stats_obj.get_available_fields()\n",
    "stat_df = stats_obj.get_statistics(group_by=group_by, fields='all', statistical_metrics=['count', 'mean', 'median'], include_estimated_values=False, remove_outliers=True, method='IQR', sqrt_tranf=True, min_count=3)\n",
    "stat_df"
   ]
  },
  {
   "cell_type": "markdown",
   "id": "fda7feac",
   "metadata": {},
   "source": [
    "### Field distribution"
   ]
  },
  {
   "cell_type": "markdown",
   "id": "d0a09977",
   "metadata": {},
   "source": [
    "#### Without removing outliers  "
   ]
  },
  {
   "cell_type": "code",
   "execution_count": null,
   "id": "b5e7bdd7",
   "metadata": {},
   "outputs": [],
   "source": [
    "filters = {\n",
    "    'material_type':'Ceramic',\n",
    "    # 'elements_nrm_1':'3.1 - Wall finishes'\n",
    "}\n",
    "stats_obj.get_field_distribution(field='material_facts.manufacturing', filters=filters, include_estimated_values=True, remove_outliers=False, method='IQR', sqrt_tranf=True)"
   ]
  },
  {
   "cell_type": "markdown",
   "id": "ef6616cd",
   "metadata": {},
   "source": [
    "#### With removing outliers"
   ]
  },
  {
   "cell_type": "code",
   "execution_count": null,
   "id": "86bc37ba",
   "metadata": {},
   "outputs": [],
   "source": [
    "stats_obj.get_field_distribution(field='material_facts.manufacturing', filters=filters, include_estimated_values=True, remove_outliers=True, method='IQR', sqrt_tranf=True)"
   ]
  },
  {
   "cell_type": "markdown",
   "id": "ef10abec",
   "metadata": {},
   "source": [
    "### Field distribution boxplot"
   ]
  },
  {
   "cell_type": "code",
   "execution_count": null,
   "id": "8d8453c2",
   "metadata": {},
   "outputs": [],
   "source": [
    "stats_obj.get_field_distribution_boxplot(field='material_facts.manufacturing', group_by_field='product_type', filters=None, include_estimated_values=True, remove_outliers=True, method='IQR', sqrt_tranf=True)\n"
   ]
  }
 ],
 "metadata": {
  "kernelspec": {
   "display_name": "Python 3 (ipykernel)",
   "language": "python",
   "name": "python3"
  },
  "language_info": {
   "codemirror_mode": {
    "name": "ipython",
    "version": 3
   },
   "file_extension": ".py",
   "mimetype": "text/x-python",
   "name": "python",
   "nbconvert_exporter": "python",
   "pygments_lexer": "ipython3",
   "version": "3.9.19"
  }
 },
 "nbformat": 4,
 "nbformat_minor": 5
}
