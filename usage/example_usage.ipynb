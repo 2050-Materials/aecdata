{
 "cells": [
  {
   "cell_type": "code",
   "execution_count": null,
   "id": "edda0ac7",
   "metadata": {},
   "outputs": [],
   "source": [
    "from materials_2050_api_client import API_Client\n",
    "import os"
   ]
  },
  {
   "cell_type": "markdown",
   "id": "df9fab3c",
   "metadata": {},
   "source": [
    "### Setup developer token"
   ]
  },
  {
   "cell_type": "code",
   "execution_count": null,
   "id": "1e20236c",
   "metadata": {},
   "outputs": [],
   "source": [
    "# Set the environment variable\n",
    "os.environ['DEVELOPER_TOKEN']= ''\n",
    "\n",
    "# Now you can access it using getenv\n",
    "developer_token = os.getenv('DEVELOPER_TOKEN')"
   ]
  },
  {
   "cell_type": "markdown",
   "id": "b0d9f7fe",
   "metadata": {},
   "source": [
    "### Create Client"
   ]
  },
  {
   "cell_type": "code",
   "execution_count": null,
   "id": "652962b3",
   "metadata": {},
   "outputs": [],
   "source": [
    "client = API_Client(base_api_url = \"https://app.2050-materials.com/\", developer_token = developer_token)"
   ]
  },
  {
   "cell_type": "markdown",
   "id": "23212e9f",
   "metadata": {},
   "source": [
    "### Get products"
   ]
  },
  {
   "cell_type": "code",
   "execution_count": null,
   "id": "2e1403ee",
   "metadata": {},
   "outputs": [],
   "source": [
    "# API\n",
    "# products = client.get_products(page=2)\n",
    "\n",
    "# Open API\n",
    "# open_products = client.get_products_open_api(page=10)"
   ]
  },
  {
   "cell_type": "markdown",
   "id": "dfd28a81",
   "metadata": {},
   "source": [
    "### Filters"
   ]
  },
  {
   "cell_type": "code",
   "execution_count": null,
   "id": "87fc6fba",
   "metadata": {},
   "outputs": [],
   "source": [
    "# Fetch all filters\n",
    "# all_filters = client.get_filters()\n",
    "\n",
    "# Fetch filters for open API\n",
    "# open_filters = client.get_open_filters()\n",
    "\n",
    "# Get product types dictionary\n",
    "product_types = client.get_product_types()\n",
    "\n",
    "# Get material types dictionary\n",
    "material_types = client.get_material_types()"
   ]
  },
  {
   "cell_type": "markdown",
   "id": "d1a27bac",
   "metadata": {},
   "source": [
    "### Apply Filters to open API"
   ]
  },
  {
   "cell_type": "code",
   "execution_count": null,
   "id": "05ff274d",
   "metadata": {},
   "outputs": [],
   "source": [
    "filters = {\n",
    "#     'name': 'weber MTL Wet room render (weber MTL Märkätilalaasti)',\n",
    "    'product_type': product_types['Building boards (Fire)'],\n",
    "    'material_types': material_types['Gypsum'],\n",
    "#     'country': 'France',\n",
    "#     'manufacturing_continent': 'Europe',\n",
    "#     'product_url': [\n",
    "#         \"https://app.2050-materials.com/product/details_designer/dalsan-alci-sanayi-ve-ticaret-a-s-rightfinish-skimcoat-thin-coat-plaster\",\n",
    "#         \"https://app.2050-materials.com/product/details_designer/benjamin-moore-aura-exterior-paint-flat-flat-n629\",\n",
    "#         \"https://app.2050-materials.com/product/details_designer/saint-gobain-finland-oy-weber-mtl-wet-room-render-weber-mtl-markatilalaasti/\"\n",
    "#     ]\n",
    "}\n",
    "\n",
    "filtered_products = client.get_filtered_data_open_api(page=1, **filters)\n",
    "filtered_products"
   ]
  },
  {
   "cell_type": "code",
   "execution_count": null,
   "id": "a3f7780c",
   "metadata": {},
   "outputs": [],
   "source": []
  }
 ],
 "metadata": {
  "kernelspec": {
   "display_name": "venv",
   "language": "python",
   "name": "venv"
  },
  "language_info": {
   "codemirror_mode": {
    "name": "ipython",
    "version": 3
   },
   "file_extension": ".py",
   "mimetype": "text/x-python",
   "name": "python",
   "nbconvert_exporter": "python",
   "pygments_lexer": "ipython3",
   "version": "3.9.12"
  }
 },
 "nbformat": 4,
 "nbformat_minor": 5
}
