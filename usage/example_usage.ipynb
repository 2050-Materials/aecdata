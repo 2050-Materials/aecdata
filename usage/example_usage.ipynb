{
 "cells": [
  {
   "cell_type": "code",
   "execution_count": null,
   "id": "edda0ac7",
   "metadata": {},
   "outputs": [],
   "source": [
    "from materials_2050_api_client import API_Client\n",
    "import os\n",
    "\n",
    "# Set the environment variable from Nicodemos\n",
    "os.environ['DEVELOPER_TOKEN']= ''\n",
    "\n",
    "# Now you can access it using getenv\n",
    "developer_token = os.getenv('DEVELOPER_TOKEN')\n",
    "\n",
    "client = API_Client(base_api_url = \"https://app.2050-materials.com/\", developer_token = developer_token)\n",
    "products = client.get_products()\n",
    "print(products)\n"
   ]
  },
  {
   "cell_type": "code",
   "execution_count": null,
   "id": "1d8cf77d",
   "metadata": {},
   "outputs": [],
   "source": []
  }
 ],
 "metadata": {
  "kernelspec": {
   "display_name": "venv",
   "language": "python",
   "name": "venv"
  },
  "language_info": {
   "codemirror_mode": {
    "name": "ipython",
    "version": 3
   },
   "file_extension": ".py",
   "mimetype": "text/x-python",
   "name": "python",
   "nbconvert_exporter": "python",
   "pygments_lexer": "ipython3",
   "version": "3.9.12"
  }
 },
 "nbformat": 4,
 "nbformat_minor": 5
}
